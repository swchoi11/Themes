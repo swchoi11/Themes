{
 "cells": [
  {
   "cell_type": "code",
   "execution_count": 8,
   "metadata": {},
   "outputs": [],
   "source": [
    "from src.utils.detect import Detect\n",
    "detector = Detect('./resource/test/test2.png')\n",
    "components = detector.get_valid_components()"
   ]
  },
  {
   "cell_type": "code",
   "execution_count": 9,
   "metadata": {},
   "outputs": [
    {
     "name": "stdout",
     "output_type": "stream",
     "text": [
      "[{'index': 9, 'type': 'android.widget.ImageButton', 'content': '', 'resource_id': '', 'bounds': (0, 127, 158, 295)}, {'index': 10, 'type': 'android.widget.TextView', 'content': 'Manage storage', 'resource_id': '', 'bounds': (158, 172, 575, 249)}, {'index': 17, 'type': 'android.widget.LinearLayout', 'content': '', 'resource_id': 'com.android.settings:id/as_usage_summary_container', 'bounds': (130, 295, 768, 401)}, {'index': 20, 'type': 'android.widget.LinearLayout', 'content': '', 'resource_id': 'com.android.settings:id/as_usage_rate_container', 'bounds': (130, 401, 768, 550)}, {'index': 23, 'type': 'android.widget.LinearLayout', 'content': '', 'resource_id': 'com.android.settings:id/space_size_container', 'bounds': (1420, 382, 1726, 439)}, {'index': 26, 'type': 'android.widget.LinearLayout', 'content': '', 'resource_id': 'com.android.settings:id/as_usage_progress_container', 'bounds': (768, 439, 1726, 550)}, {'index': 34, 'type': 'android.widget.LinearLayout', 'content': '', 'resource_id': '', 'bounds': (130, 550, 928, 623)}, {'index': 40, 'type': 'android.widget.LinearLayout', 'content': '', 'resource_id': '', 'bounds': (928, 550, 1726, 623)}, {'index': 46, 'type': 'android.widget.LinearLayout', 'content': '', 'resource_id': '', 'bounds': (130, 623, 928, 696)}, {'index': 52, 'type': 'android.widget.LinearLayout', 'content': '', 'resource_id': '', 'bounds': (928, 623, 1726, 696)}, {'index': 58, 'type': 'android.widget.LinearLayout', 'content': '', 'resource_id': 'com.android.settings:id/show_more_container', 'bounds': (1365, 722, 1689, 817)}, {'index': 69, 'type': 'android.widget.Button', 'content': '', 'resource_id': '', 'bounds': (198, 994, 454, 1089)}, {'index': 72, 'type': 'android.widget.Button', 'content': '', 'resource_id': '', 'bounds': (454, 994, 762, 1089)}, {'index': 79, 'type': 'android.widget.GridView', 'content': '', 'resource_id': 'com.android.settings:id/recommend_card_indicator', 'bounds': (878, 1217, 978, 1235)}, {'index': 84, 'type': 'android.widget.ImageView', 'content': '', 'resource_id': 'com.android.settings:id/icon', 'bounds': (193, 1340, 288, 1435)}, {'index': 87, 'type': 'android.widget.TextView', 'content': '93.50 MB', 'resource_id': 'com.android.settings:id/size', 'bounds': (1520, 1346, 1663, 1390)}, {'index': 92, 'type': 'android.widget.ImageView', 'content': '', 'resource_id': 'com.android.settings:id/icon', 'bounds': (193, 1524, 288, 1619)}, {'index': 95, 'type': 'android.widget.TextView', 'content': '0 B', 'resource_id': 'com.android.settings:id/size', 'bounds': (1615, 1530, 1663, 1574)}, {'index': 100, 'type': 'android.widget.ImageView', 'content': '', 'resource_id': 'com.android.settings:id/icon', 'bounds': (193, 1708, 288, 1803)}, {'index': 103, 'type': 'android.widget.TextView', 'content': '0 B', 'resource_id': 'com.android.settings:id/size', 'bounds': (1615, 1714, 1663, 1758)}, {'index': 108, 'type': 'android.widget.ImageView', 'content': '', 'resource_id': 'com.android.settings:id/icon', 'bounds': (193, 1892, 288, 1987)}, {'index': 111, 'type': 'android.widget.TextView', 'content': '215 MB', 'resource_id': 'com.android.settings:id/size', 'bounds': (1552, 1898, 1663, 1942)}]\n"
     ]
    }
   ],
   "source": [
    "print(components)"
   ]
  },
  {
   "cell_type": "code",
   "execution_count": 10,
   "metadata": {},
   "outputs": [
    {
     "name": "stdout",
     "output_type": "stream",
     "text": [
      "(0, 127, 158, 295)\n",
      "(158, 172, 575, 249)\n",
      "(130, 295, 768, 401)\n",
      "(130, 401, 768, 550)\n",
      "(1420, 382, 1726, 439)\n",
      "(768, 439, 1726, 550)\n",
      "(130, 550, 928, 623)\n",
      "(928, 550, 1726, 623)\n",
      "(130, 623, 928, 696)\n",
      "(928, 623, 1726, 696)\n",
      "(1365, 722, 1689, 817)\n",
      "(198, 994, 454, 1089)\n",
      "(454, 994, 762, 1089)\n",
      "(878, 1217, 978, 1235)\n",
      "(193, 1340, 288, 1435)\n",
      "(1520, 1346, 1663, 1390)\n",
      "(193, 1524, 288, 1619)\n",
      "(1615, 1530, 1663, 1574)\n",
      "(193, 1708, 288, 1803)\n",
      "(1615, 1714, 1663, 1758)\n",
      "(193, 1892, 288, 1987)\n",
      "(1552, 1898, 1663, 1942)\n"
     ]
    }
   ],
   "source": [
    "for comp in components:\n",
    "    print(comp['bounds'])"
   ]
  },
  {
   "cell_type": "code",
   "execution_count": 42,
   "metadata": {},
   "outputs": [
    {
     "name": "stdout",
     "output_type": "stream",
     "text": [
      "(0, 127, 158, 295)\n",
      "(158, 172, 575, 249)\n",
      "(130, 295, 768, 401)\n",
      "(1420, 382, 1726, 439)\n",
      "(130, 401, 768, 550)\n",
      "(768, 439, 1726, 550)\n",
      "(130, 550, 928, 623)\n",
      "(928, 550, 1726, 623)\n",
      "(130, 623, 928, 696)\n",
      "(928, 623, 1726, 696)\n",
      "(1365, 722, 1689, 817)\n",
      "(198, 994, 454, 1089)\n",
      "(454, 994, 762, 1089)\n",
      "(878, 1217, 978, 1235)\n",
      "(193, 1340, 288, 1435)\n",
      "(1520, 1346, 1663, 1390)\n",
      "(193, 1524, 288, 1619)\n",
      "(1615, 1530, 1663, 1574)\n",
      "(193, 1708, 288, 1803)\n",
      "(1615, 1714, 1663, 1758)\n",
      "(193, 1892, 288, 1987)\n",
      "(1552, 1898, 1663, 1942)\n",
      "22\n"
     ]
    }
   ],
   "source": [
    "sorted_components = sorted(components, key=lambda x: x['bounds'][1])\n",
    "for comp in sorted_components:\n",
    "    print(comp['bounds'])\n",
    "\n",
    "print(len(sorted_components))"
   ]
  },
  {
   "cell_type": "code",
   "execution_count": 50,
   "metadata": {},
   "outputs": [
    {
     "name": "stdout",
     "output_type": "stream",
     "text": [
      "[{'bounds': (127, 295), 'components': [(0, 127, 158, 295), (158, 172, 575, 249)]}, {'bounds': (295, 550), 'components': [(130, 295, 768, 401), (1420, 382, 1726, 439), (130, 401, 768, 550), (768, 439, 1726, 550)]}, {'bounds': (550, 623), 'components': [(130, 550, 928, 623), (928, 550, 1726, 623)]}, {'bounds': (623, 696), 'components': [(130, 623, 928, 696), (928, 623, 1726, 696)]}, {'bounds': (722, 817), 'components': [(1365, 722, 1689, 817)]}, {'bounds': (994, 1089), 'components': [(198, 994, 454, 1089), (454, 994, 762, 1089)]}, {'bounds': (1217, 1235), 'components': [(878, 1217, 978, 1235)]}, {'bounds': (1340, 1435), 'components': [(193, 1340, 288, 1435), (1520, 1346, 1663, 1390)]}, {'bounds': (1524, 1619), 'components': [(193, 1524, 288, 1619), (1615, 1530, 1663, 1574)]}, {'bounds': (1708, 1803), 'components': [(193, 1708, 288, 1803), (1615, 1714, 1663, 1758)]}, {'bounds': (1892, 1987), 'components': [(193, 1892, 288, 1987), (1552, 1898, 1663, 1942)]}]\n"
     ]
    }
   ],
   "source": [
    "def check_overlap(groups, vertical_bound):\n",
    "    \"\"\"\n",
    "    두 범위가 겹치는지 확인하는 함수\n",
    "    겹치는 경우: max(start1, start2) < min(end1, end2)\n",
    "    \"\"\"\n",
    "    overlapping_groups = []\n",
    "    \n",
    "    for i, group in enumerate(groups):\n",
    "        existing_start, existing_end = group['bounds']\n",
    "        new_start, new_end = vertical_bound\n",
    "        \n",
    "        # 두 범위가 겹치는지 확인\n",
    "        if max(existing_start, new_start) < min(existing_end, new_end):\n",
    "            overlapping_groups.append(i)\n",
    "    \n",
    "    return len(overlapping_groups), overlapping_groups\n",
    "\n",
    "\n",
    "groups = []\n",
    "for comp in sorted_components:\n",
    "    vertical_bound = (comp['bounds'][1], comp['bounds'][3])\n",
    "    \n",
    "    if not groups:\n",
    "        groups.append({\"bounds\": vertical_bound, \"components\": [comp['bounds']]})\n",
    "        continue\n",
    "    \n",
    "    overlap_count, overlapping_indices = check_overlap(groups, vertical_bound)\n",
    "    \n",
    "    if overlap_count == 0:\n",
    "        # 겹치지 않는 경우 새로운 그룹 생성\n",
    "        groups.append({\"bounds\": vertical_bound, \"components\": [comp['bounds']]})\n",
    "    \n",
    "    elif overlap_count == 1:\n",
    "        # 하나의 그룹과 겹치는 경우 해당 그룹에 추가하고 범위 확장\n",
    "        idx = overlapping_indices[0]\n",
    "        existing_start, existing_end = groups[idx]['bounds']\n",
    "        new_start, new_end = vertical_bound\n",
    "        \n",
    "        # 범위 확장 (최소값과 최대값으로)\n",
    "        groups[idx]['bounds'] = (min(existing_start, new_start), max(existing_end, new_end))\n",
    "        groups[idx]['components'].append(comp['bounds'])\n",
    "    \n",
    "    else:\n",
    "        # 여러 그룹과 겹치는 경우 - 모든 겹치는 그룹을 병합\n",
    "        all_components = [comp]\n",
    "        min_start = vertical_bound[0]\n",
    "        max_end = vertical_bound[1]\n",
    "        \n",
    "        # 역순으로 제거해야 인덱스 꼬임 방지\n",
    "        for idx in sorted(overlapping_indices, reverse=True):\n",
    "            all_components.extend(groups[idx]['components'])\n",
    "            existing_start, existing_end = groups[idx]['bounds']\n",
    "            min_start = min(min_start, existing_start)\n",
    "            max_end = max(max_end, existing_end)\n",
    "            groups.pop(idx)\n",
    "        \n",
    "        # 새로운 병합된 그룹 추가\n",
    "        groups.append({\"bounds\": (min_start, max_end), \"components\": all_components})\n",
    "\n",
    "print(groups)"
   ]
  },
  {
   "cell_type": "code",
   "execution_count": 48,
   "metadata": {},
   "outputs": [
    {
     "name": "stdout",
     "output_type": "stream",
     "text": [
      "(130, 295, 768, 401)\n",
      "(130, 401, 768, 550)\n",
      "(768, 439, 1726, 550)\n",
      "(1420, 382, 1726, 439)\n"
     ]
    }
   ],
   "source": [
    "components = [{'index': 17, 'type': 'android.widget.LinearLayout', 'content': '', 'resource_id': 'com.android.settings:id/as_usage_summary_container', 'bounds': (130, 295, 768, 401)}, \n",
    "{'index': 23, 'type': 'android.widget.LinearLayout', 'content': '', 'resource_id': 'com.android.settings:id/space_size_container', 'bounds': (1420, 382, 1726, 439)}, \n",
    "{'index': 20, 'type': 'android.widget.LinearLayout', 'content': '', 'resource_id': 'com.android.settings:id/as_usage_rate_container', 'bounds': (130, 401, 768, 550)}, \n",
    "{'index': 26, 'type': 'android.widget.LinearLayout', 'content': '', 'resource_id': 'com.android.settings:id/as_usage_progress_container', 'bounds': (768, 439, 1726, 550)}]\n",
    "\n",
    "components = sorted(components, key=lambda x: x['bounds'][0])\n",
    "\n",
    "for comp in components:\n",
    "    print(comp['bounds'])\n",
    "\n",
    "\n",
    "\n",
    "\n"
   ]
  },
  {
   "cell_type": "code",
   "execution_count": null,
   "metadata": {},
   "outputs": [],
   "source": []
  }
 ],
 "metadata": {
  "kernelspec": {
   "display_name": "themes-12",
   "language": "python",
   "name": "python3"
  },
  "language_info": {
   "codemirror_mode": {
    "name": "ipython",
    "version": 3
   },
   "file_extension": ".py",
   "mimetype": "text/x-python",
   "name": "python",
   "nbconvert_exporter": "python",
   "pygments_lexer": "ipython3",
   "version": "3.12.3"
  }
 },
 "nbformat": 4,
 "nbformat_minor": 2
}
